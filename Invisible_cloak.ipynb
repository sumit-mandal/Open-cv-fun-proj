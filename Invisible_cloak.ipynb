{
 "cells": [
  {
   "cell_type": "markdown",
   "metadata": {},
   "source": [
    "## Import the package"
   ]
  },
  {
   "cell_type": "code",
   "execution_count": 1,
   "metadata": {},
   "outputs": [],
   "source": [
    "\n",
    "import cv2\n",
    "import time\n",
    "import numpy as np\n"
   ]
  },
  {
   "cell_type": "markdown",
   "metadata": {},
   "source": [
    "### Storing a single frame before starting the infinite loop"
   ]
  },
  {
   "cell_type": "code",
   "execution_count": 2,
   "metadata": {},
   "outputs": [],
   "source": [
    "rectangle = np.zeros((300, 300), dtype = \"uint8\")\n",
    "cv2.rectangle(rectangle, (25, 25), (275, 275), 255, -1)\n",
    "\n",
    "circle = np.zeros((300, 300), dtype = \"uint8\")\n",
    "cv2.circle(circle, (150, 150), 150, 255, -1)\n",
    "\n",
    "cv2.imshow('rectangle',rectangle)\n",
    "cv2.waitKey(0)\n",
    "cv2.destroyAllWindows()"
   ]
  },
  {
   "cell_type": "code",
   "execution_count": 3,
   "metadata": {},
   "outputs": [],
   "source": [
    "cv2.imshow('circle',circle)\n",
    "cv2.waitKey(0)\n",
    "cv2.destroyAllWindows()"
   ]
  },
  {
   "cell_type": "markdown",
   "metadata": {},
   "source": [
    "##  And Operation"
   ]
  },
  {
   "cell_type": "code",
   "execution_count": 4,
   "metadata": {},
   "outputs": [],
   "source": [
    "bitwiseAnd = cv2.bitwise_and(rectangle, circle)\n",
    "cv2.imshow('bitAnd',bitwiseAnd)\n",
    "cv2.waitKey(0)\n",
    "cv2.destroyAllWindows()"
   ]
  },
  {
   "cell_type": "markdown",
   "metadata": {},
   "source": [
    "## Or Operation"
   ]
  },
  {
   "cell_type": "code",
   "execution_count": 5,
   "metadata": {},
   "outputs": [],
   "source": [
    "bitOr = cv2.bitwise_or(rectangle,circle)\n",
    "cv2.imshow('bitor',bitOr)\n",
    "cv2.waitKey(0)\n",
    "cv2.destroyAllWindows()"
   ]
  },
  {
   "cell_type": "markdown",
   "metadata": {},
   "source": [
    "## Not Operation"
   ]
  },
  {
   "cell_type": "code",
   "execution_count": 6,
   "metadata": {},
   "outputs": [],
   "source": [
    "bitNot = cv2.bitwise_not(circle)\n",
    "cv2.imshow('bitnot',bitNot)\n",
    "cv2.waitKey(0)\n",
    "cv2.destroyAllWindows()"
   ]
  },
  {
   "cell_type": "markdown",
   "metadata": {},
   "source": [
    "## XOR"
   ]
  },
  {
   "cell_type": "code",
   "execution_count": 7,
   "metadata": {},
   "outputs": [],
   "source": [
    "bitXor = cv2.bitwise_xor(rectangle, circle)\n",
    "cv2.imshow('bitXor',bitXor)\n",
    "cv2.waitKey(0)\n",
    "cv2.destroyAllWindows()"
   ]
  },
  {
   "cell_type": "markdown",
   "metadata": {},
   "source": [
    "## Masking"
   ]
  },
  {
   "cell_type": "code",
   "execution_count": null,
   "metadata": {},
   "outputs": [],
   "source": [
    "# Step 1\n",
    "mask = np.zeros((300, 300), dtype = \"uint8\")\n",
    "\n",
    "# Step 2\n",
    "cv2.rectangle(mask, (50, 250), (150, 150), 255, -1)\n",
    "cv2.rectangle(mask, (150, 150), (250, 50), 255, -1)\n",
    "cv2.circle(mask, (75, 75), 50, 255, -1)\n",
    "cv2.circle(mask, (225, 225), 50, 255, -1)\n",
    "\n",
    "img = cv2.imread('image.jpg')\n",
    "img = cv2.resize(img,(300,300),cv2.INTER_AREA)\n",
    "\n",
    "bitwiseAnd = cv2.bitwise_and(img,img,mask=mask)\n",
    "\n",
    "# Step 3\n",
    "cv2.imshow(\"Masked image\",bitwiseAnd)\n",
    "cv2.waitKey(0)"
   ]
  },
  {
   "cell_type": "markdown",
   "metadata": {},
   "source": [
    "### Harry Potter"
   ]
  },
  {
   "cell_type": "code",
   "execution_count": 15,
   "metadata": {},
   "outputs": [],
   "source": [
    "import cv2\n",
    "import numpy as np\n",
    "\n",
    "cap=cv2.VideoCapture(0)\n",
    "back = cv2.imread('image.jpg')\n",
    "\n",
    "while cap.isOpened():\n",
    "    ret,frame = cap.read()\n",
    "    if ret:\n",
    "        hsv = cv2.cvtColor(frame,cv2.COLOR_BGR2HSV)\n",
    "        #cv2.imshow(\"HSV\",hsv)\n",
    "       \n",
    "\n",
    "        l_blue=np.array([91,76,57])\n",
    "        u_blue=np.array([216,132,23])\n",
    "\n",
    "        mask = cv2.inRange(hsv,l_blue,u_blue)\n",
    "        cv2.imshow(\"Mask\",mask)\n",
    " \n",
    "        part1 = cv2.bitwise_and(back,back,mask=mask)\n",
    "        cv2.imshow(\"Half\",part1) # all things blue\n",
    " \n",
    "        mask=cv2.bitwise_not(mask) \n",
    "        cv2.imshow(\"New mask\",mask) # all things not blue\n",
    " \n",
    "        part2 = cv2.bitwise_and(frame,frame,mask=mask)\n",
    "        cv2.imshow(\"Final\",part2+part1) \n",
    "\n",
    "        if cv2.waitKey(5) == ord('q'):\n",
    "                break\n",
    " \n",
    " \n",
    "cap.release()\n",
    "cv2.destroyAllWindows()\n",
    "\n",
    "# 236 138 61"
   ]
  },
  {
   "cell_type": "code",
   "execution_count": 2,
   "metadata": {},
   "outputs": [],
   "source": [
    "  \n",
    "import cv2 #opencv for image processing\n",
    "#creating a videocapture object\n",
    "cap = cv2.VideoCapture(0) #this is my webcam\n",
    "\n",
    "#getting the background image\n",
    "while cap.isOpened():\n",
    "    ret, background = cap.read() #simply reading from the web cam\n",
    "    if ret:\n",
    "        cv2.imshow(\"image\", background)\n",
    "        if cv2.waitKey(5) == ord('q'):\n",
    "            #save the background image\n",
    "            cv2.imwrite(\"image2.jpg\", background)\n",
    "            break\n",
    "cap.release()\n",
    "cv2.destroyAllWindows()"
   ]
  },
  {
   "cell_type": "code",
   "execution_count": 17,
   "metadata": {},
   "outputs": [],
   "source": [
    "  \n",
    "import cv2 # for image processing\n",
    "import numpy as np #mathematical library for image handling\n",
    "\n",
    "cap = cv2.VideoCapture(0)\n",
    "background = cv2.imread('./image2.jpg')\n",
    "\n",
    "while cap.isOpened():\n",
    "    #caturing the live frame\n",
    "    ret, current_frame = cap.read()\n",
    "    if ret:\n",
    "        #converting from rgb to hsv color space\n",
    "        hsv_frame = cv2.cvtColor(current_frame, cv2.COLOR_BGR2HSV)\n",
    "\n",
    "        #range for lower red\n",
    "        l_red = np.array([0,120,170])\n",
    "        u_red = np.array([10,255,255])\n",
    "        mask1 = cv2.inRange(hsv_frame, l_red, u_red)\n",
    "\n",
    "        #range for lower red\n",
    "        l_red = np.array([170,120,70])\n",
    "        u_red = np.array([180,255,255])\n",
    "        mask2 = cv2.inRange(hsv_frame, l_red, u_red)\n",
    "\n",
    "        #generating the final red mask\n",
    "        red_mask = mask1 + mask2\n",
    "\n",
    "        red_mask = cv2.morphologyEx(red_mask, cv2.MORPH_OPEN, np.ones((3,3), np.uint8), iterations = 10) \n",
    "        red_mask = cv2.morphologyEx(red_mask, cv2.MORPH_DILATE, np.ones((3,3), np.uint8), iterations = 1)\n",
    "        \n",
    "        cv2.imshow(\"red Mask\",red_mask)\n",
    "\n",
    "        #subsituting the red portion with backgrpound image\n",
    "        part1 = cv2.bitwise_and(background, background, mask= red_mask)\n",
    "        cv2.imshow(\"part1\",part1)\n",
    "        \n",
    "        # detecting things which are not red\n",
    "        red_free = cv2.bitwise_not(red_mask)\n",
    "        cv2.imshow(\"red_free\",red_free)\n",
    "\n",
    "        # if cloak is not present show the current image\n",
    "        part2 = cv2.bitwise_and(current_frame, current_frame, mask= red_free)\n",
    "        cv2.imshow(\"part2\",part2)\n",
    "\n",
    "\n",
    "        #final output\n",
    "        cv2.imshow(\"cloak\", part1 + part2)\n",
    "        if cv2.waitKey(5) == ord('q'):\n",
    "            break\n",
    "cap.release()\n",
    "cv2.destroyAllWindows()"
   ]
  },
  {
   "cell_type": "code",
   "execution_count": 19,
   "metadata": {},
   "outputs": [
    {
     "name": "stdout",
     "output_type": "stream",
     "text": [
      "On branch main\n",
      "Your branch is up to date with 'origin/main'.\n",
      "\n",
      "Untracked files:\n",
      "  (use \"git add <file>...\" to include in what will be committed)\n",
      "\t.ipynb_checkpoints/\n",
      "\t.virtual_documents/\n",
      "\tInvisible_cloak.ipynb\n",
      "\tbackground.jpg\n",
      "\timage.jpg\n",
      "\timage1.jpg\n",
      "\timage2.jpg\n",
      "\n",
      "nothing added to commit but untracked files present (use \"git add\" to track)\n"
     ]
    },
    {
     "name": "stderr",
     "output_type": "stream",
     "text": [
      "Everything up-to-date\n"
     ]
    }
   ],
   "source": [
    "!git add Invisible_cloak.ipynb\n",
    "! git commit -m \"13:20/07-09-2021\"\n",
    "! git push origin main "
   ]
  },
  {
   "cell_type": "code",
   "execution_count": null,
   "metadata": {},
   "outputs": [],
   "source": []
  },
  {
   "cell_type": "code",
   "execution_count": null,
   "metadata": {},
   "outputs": [],
   "source": []
  },
  {
   "cell_type": "code",
   "execution_count": null,
   "metadata": {},
   "outputs": [],
   "source": []
  },
  {
   "cell_type": "code",
   "execution_count": null,
   "metadata": {},
   "outputs": [],
   "source": []
  },
  {
   "cell_type": "code",
   "execution_count": null,
   "metadata": {},
   "outputs": [],
   "source": []
  },
  {
   "cell_type": "code",
   "execution_count": null,
   "metadata": {},
   "outputs": [],
   "source": []
  }
 ],
 "metadata": {
  "kernelspec": {
   "display_name": "Python [conda env:cv] *",
   "language": "python",
   "name": "conda-env-cv-py"
  },
  "language_info": {
   "codemirror_mode": {
    "name": "ipython",
    "version": 3
   },
   "file_extension": ".py",
   "mimetype": "text/x-python",
   "name": "python",
   "nbconvert_exporter": "python",
   "pygments_lexer": "ipython3",
   "version": "3.8.5"
  }
 },
 "nbformat": 4,
 "nbformat_minor": 4
}
